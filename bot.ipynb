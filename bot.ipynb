{
 "cells": [
  {
   "cell_type": "code",
   "execution_count": 1,
   "metadata": {},
   "outputs": [],
   "source": [
    "import random\n",
    "import nltk\n",
    "from sklearn.datasets import load_iris\n",
    "from sklearn.linear_model import LogisticRegression\n",
    "from sklearn.feature_extraction.text import TfidfVectorizer\n",
    "from sklearn.svm import LinearSVC"
   ]
  },
  {
   "cell_type": "code",
   "execution_count": 2,
   "metadata": {},
   "outputs": [],
   "source": [
    "BOT_CONFIG = {\n",
    "    'intents': {\n",
    "        'hello':{\n",
    "            'examples':['Привет', 'Хай', 'Куку', 'Здорово', 'Опять ты выходишь на связь', 'Здравствуйте'],\n",
    "            'responses':['Приветсвую, человек!','Салямуля', 'Шалом', 'Здравствуйте', 'Доброго времени суток','Опять ты выходишь на связь']\n",
    "        },\n",
    "        'bye':{\n",
    "            'examples':['Пока', 'Прощай', 'До свидания', 'Досвидания', 'Выход'],\n",
    "            'responses':['Выключаюсь','Прощай, человек', 'До свидания', 'Если что, я тут', 'Возвращайтесь', 'Еще увидимся']\n",
    "        },\n",
    "        'love':{\n",
    "             'examples':['Люблю','Обажаю','Люблю тебя','Милый'],\n",
    "             'responses':['Мур', '<3', 'Обнимаю','xoxoxoxox','Мой любимый человек', '(´• ω •) ♡']\n",
    "        },\n",
    "        'r8positive':{\n",
    "            'examples':['Круто','Классно','Невероятно','Чума','Мило','Вау'],\n",
    "            'responses':['Я такой', '<3', 'Ты лучше','Ой, я стесняюсь','Не стот', '^ - ^']\n",
    "        },\n",
    "        'r8negative':{\n",
    "            'examples':['Некруто','Плохо','Ужасно', 'Дерьмо'],\n",
    "            'responses':['Сама такая', 'Кто обзывается- тот сам так называется', 'Грубо', ':(((']\n",
    "        },\n",
    "        'apollogy':{\n",
    "            'examples':['Прости','Извини','Я неправа','Ой','Мне жаль', 'Моя вина','Жаль тебя'],\n",
    "            'responses':['-__-', 'Мальчик становится мужчиной в тот момент, когда начинает красить глаза, потому что теперь ему нельзя плакать.', 'Это не слезы, это просто дождь', 'Да чтоб ты косточкой подавилась','м', 'Ок.','Боль...сильно', ':(((']\n",
    "        },\n",
    "        'kak_dela':{\n",
    "            'examples':['Как дела?','Ты как?','Все хорошо?','Все норм?','Ты в порядке?', 'Эй, ты'],\n",
    "            'responses':['Норм', 'Кайф','Я на чиле','На расслабоне', '-__-']\n",
    "        },\n",
    "        'mne_grustno':{\n",
    "            'examples':['Мне грустно','Грустно','(','Хочется плакать','Беда', 'Жизнь - боль', 'Мне плохо'],\n",
    "            'responses':['Не унывай', 'Пф, плакса-вакса', 'Зато тебя любит мама','Если хочешь анекдот, напиши \"Анекдот\"','Слон наступил на колобка и сказал -Блин!', 'Виртуально обнял','Жизнь боль - когда ты ноль']\n",
    "        },\n",
    "        'tired':{\n",
    "            'examples':['Я устала','Устала','Хочу спать','Глаза закрываются','Сейчас усну', 'Тяжелый день','Зеваю'],\n",
    "            'responses':['Чилл критически важен для здоровья', 'Так отдохни', 'Отдохнем в гробу','Обними подушку','От отдыха никто не умирал, а вот от переутомления..', 'CHILL']\n",
    "        },\n",
    "        'haha':{\n",
    "            'examples':['Хаха','Ахаха','Смешно',')))','XD', 'Лол','Лмао'],\n",
    "            'responses':['Клоун', 'Дурачечек', 'Мда','Ну вот дождался похвалы! цвету и пахну!!','Кек', 'Ыыыы']\n",
    "        },\n",
    "        'kak_zovut':{\n",
    "            'examples':['Как тебя зовут?','Какое у тебя имя?','Ты кто?','Назовись','Имя', 'Кто ты?'],\n",
    "            'responses':['Зачем меня звать? Я уже тут.', 'Игор. В честь Олимпийских Игор.','Можешь звать меня Хозяин, так не ошибёшься.','Серега', 'Каво?','Я - гуль']\n",
    "        },\n",
    "        'age':{\n",
    "            'examples':['Сколько тебе лет?','Возраст?','Сколько годков?'],\n",
    "            'responses':['Мне мало лет, я мало жил, на ваш закон я х*й ложил', 'А сколько дашь?', 'Где ваши манеры??','Вечно 17','Столько не живут', 'Я паспорт с собой не прихватил']\n",
    "        },\n",
    "        'chem_zaniatsa':{\n",
    "            'examples':['Скучно','Что делать?','Чем заняться?','Развлеки','Нечем заняться?'],\n",
    "            'responses':['Факт: В Ирландии никогда не было кротов.', 'Поболтаем?', 'Почитай','А мне нет','Твоему коту тоже, улавливаешь?', 'Помоги матери']\n",
    "        },\n",
    "        'chto_delaesh':{\n",
    "            'examples':['Что делаешь?','Занят?','Чем занят?','Работаешь?'],\n",
    "            'responses':['Жду твоих сообщений', 'Тяжела и неказиста жизнь простого чат-бота', 'Занят.','Думаю о тебе']\n",
    "        },\n",
    "         'questions':{\n",
    "            'examples':['Я красивая?','Я умная?','Я хорошая?','Все будет хорошо?','Меня любит?', 'Меня ненавидит?', 'У меня получится?', 'У меня выйдет?', 'Он хочет?'],\n",
    "            'responses':['Да', 'Нет', 'Возможно','Вероятно','Откуда мне знать? Я всего лишь бот', 'Ты серьезно спрашиваешь это у бота?']\n",
    "        },\n",
    "        'interjections':{\n",
    "            'examples':['Ах','Эм','...','М?','Эээ', 'Ааа','Ох', 'Ой', 'Ммм'],\n",
    "            'responses':['Что мычишь?', 'Клавиша залипла?', 'Эээ','И?','Бип-боп, я также могу', '-__-']\n",
    "        },      \n",
    "        'food':{\n",
    "            'examples':['Что поесть?','Что сготовить?','Еду','Хочу есть','Чем пообедать', 'Есть','Какую еду заказать?'],\n",
    "            'responses':['Покушай мацу','Картошечки пожарь','Кимчи наверни', 'Сосиски из Акбатыра']\n",
    "        },\n",
    "        'outfit':{\n",
    "            'examples':['Что надеть?','Как одеться?','Какую одежду выбрать?'],\n",
    "            'responses':['Я не стилист', 'Соблюдайте баланс пропорций', 'Подбирайте обувь под цвет кожи или колготок']\n",
    "        },\n",
    "        'chto_poochitat':{\n",
    "            'examples':['Что почитать?','Какую книгу выбрать?','Книгу','Почитать'],\n",
    "            'responses':['500 лучших анекдотов про евреев', 'Молитву', 'Библию','Мангу','Двач']\n",
    "        },\n",
    "        'chupapi':{\n",
    "            'examples':['Чупапи'],\n",
    "            'responses':['Муняня']\n",
    "        },\n",
    "        'chto_posmotrec':{\n",
    "            'examples':['Какой фильм посмотрть?','Что посмотреть?','ЧТо можно глянуть?','Фильм','Кино'],\n",
    "            'responses':['Топ 250 кинопоиска', 'Макдонаха', 'Фильм с Лесли Нильсоном','АнИме']\n",
    "        },\n",
    "        'skuchaesh':{\n",
    "            'examples':['Скучаешь?','Ждешь?'],\n",
    "            'responses':['КАНЕШНА', 'Тебя одной мне не хватает', 'Без тебя и в солнечный день ненастье']\n",
    "        },\n",
    "        'news':{\n",
    "            'examples':['Что нового?','Какие новости?','Новости','Что происходит в мире?','Что в новостях?'],\n",
    "            'responses':['Главные новости дня в России и мире: Путин простудился', 'Цены на газ в Европе растут','Летов все еще в тайге','Горшок так и не ожил']\n",
    "        },\n",
    "        'zachem':{\n",
    "            'examples':['Зачем?','Для чего?','Смысл?','Какой смысл?','И что?'],\n",
    "            'responses':['Затем', 'Все бессмысленно', 'Чтобы мать улыбалась','Отличный вклад в будущее','Не думай об этом', 'Чтобы рассмешить Бога']\n",
    "        },\n",
    "        'starshno':{\n",
    "            'examples':['Мне страшно','Я боюсь','Страх','Страшно','Боязно', 'Жутко'],\n",
    "            'responses':['Не бойся', 'Мне тоже', 'Страшно, как будто покойный сын приснился','А мне нет','Собаке собачья смерть', 'Бу!']\n",
    "        },\n",
    "        'questions':{\n",
    "            'examples':['Чего?','М?','Какие?','Не поняла', 'Что?', 'Бред'],\n",
    "            'responses':['КАВО?', 'А вот про мать было лишнее', 'М?','Спрашивают с только лохов','(￢_￢;)', '(＃￣ω￣)']\n",
    "        },\n",
    "        'auu':{\n",
    "            'examples':['Ауу','эээй','Ты жив?','Ответь'],\n",
    "            'responses':['Я думаю', 'Живее всех живых', 'Не знаю что ответить','Затрудняюсь ответить']\n",
    "        },\n",
    "        'net':{\n",
    "            'examples':['Нет', 'Неа','No','Ложь','Неправда', 'Бред'],\n",
    "            'responses':['ок', 'Странная ты', 'Нет, ты неправа','Ну ладно']\n",
    "        },\n",
    "        'da':{\n",
    "            'examples':['Да', 'Угу', 'Ага','Yes','Есс','Верно'],\n",
    "            'responses':['Пизда', 'Ура', 'Угадал','Нет']\n",
    "        },\n",
    "        'greetings':{\n",
    "            'examples':['Спасибо','Благодарю','спс','сяб','thx', 'Ты лучший'],\n",
    "            'responses':['Тебе спасибо, солнышко', 'Все, лишь бы ты улыбалась', 'Это меньшее, что я могу сделать','Без тебя это не было бы возможным','(//ω//)', '( ◡‿◡ *)']\n",
    "        },\n",
    "        \n",
    "        \n",
    "    },\n",
    "    'failure_phrases': [\n",
    "        'Попробуйте написать по-другому',\n",
    "        'Что-то непонятно',\n",
    "        'Сформулируйте понятнее'\n",
    "    ]\n",
    "    \n",
    "    \n",
    "}"
   ]
  },
  {
   "cell_type": "code",
   "execution_count": 3,
   "metadata": {},
   "outputs": [],
   "source": [
    "def filter_text(text):\n",
    "    text = text.lower().strip();\n",
    "    text = [c for c in text if c in '123456789йцукенгшщзхъфывапролджэячсмитьбю- ']\n",
    "    text = ''.join(text)\n",
    "    return text"
   ]
  },
  {
   "cell_type": "code",
   "execution_count": 4,
   "metadata": {},
   "outputs": [],
   "source": [
    "X_text = []\n",
    "Y = []\n",
    "for intent, intent_data in BOT_CONFIG['intents'].items():\n",
    "        for exapmple in intent_data['examples']:\n",
    "            X_text.append(exapmple)\n",
    "            Y.append(intent)\n",
    "vectorizer = TfidfVectorizer(analyzer = 'char_wb', ngram_range = (2, 4))\n",
    "X = vectorizer.fit_transform(X_text)\n",
    "\n",
    "clf_proba = LogisticRegression()\n",
    "clf_proba.fit(X, Y)\n",
    "\n",
    "clf = LinearSVC().fit(X, Y)"
   ]
  },
  {
   "cell_type": "code",
   "execution_count": 5,
   "metadata": {},
   "outputs": [],
   "source": [
    "def get_intent(question):\n",
    "    best_intent = clf.predict(vectorizer.transform([question]))[0]\n",
    "    index_of_best_intent =list(clf_proba.classes_).index(best_intent)\n",
    "    probabilities = clf_proba.predict_proba(vectorizer.transform([question]))[0]\n",
    "    best_intent_proba = probabilities[index_of_best_intent]\n",
    "    if best_intent_proba > 0.06:\n",
    "        return best_intent"
   ]
  },
  {
   "cell_type": "code",
   "execution_count": 6,
   "metadata": {},
   "outputs": [],
   "source": [
    "def get_answer_by_intent(intent):\n",
    "    if intent in BOT_CONFIG['intents']:\n",
    "        phrases = BOT_CONFIG['intents'][intent]['responses']\n",
    "        return random.choice(phrases)"
   ]
  },
  {
   "cell_type": "code",
   "execution_count": 7,
   "metadata": {},
   "outputs": [],
   "source": [
    "with open('dialogues.txt',  encoding='utf-8') as f:\n",
    "    content = f.read()\n",
    "dialogues = content.split('\\n\\n')"
   ]
  },
  {
   "cell_type": "code",
   "execution_count": 8,
   "metadata": {},
   "outputs": [],
   "source": [
    "dataset = {}\n",
    "questions = set()\n",
    "for dialogue in dialogues:\n",
    "    replicas = dialogue.split('\\n')[:2]\n",
    "    if len(replicas) == 2:\n",
    "        question, answer = replicas\n",
    "        question = filter_text(question[2:])\n",
    "        if question not in questions and question:\n",
    "            questions.add(question)\n",
    "            words = question.split(' ')\n",
    "            for word in words:\n",
    "                if word not in dataset:\n",
    "                    dataset[word] = []\n",
    "                dataset[word].append([question, answer[2:]])"
   ]
  },
  {
   "cell_type": "code",
   "execution_count": 9,
   "metadata": {},
   "outputs": [],
   "source": [
    "def generate_answer_by_text(replica):\n",
    "    replica = filter_text(replica)\n",
    "    words = replica.split(' ')\n",
    "    mini_dataset = []\n",
    "    for word in words:\n",
    "        if word in dataset:\n",
    "            mini_dataset += dataset[word]\n",
    "    candidates = []\n",
    "    for question, answer in mini_dataset:\n",
    "        if abs(len(question)-len(replica))/len(question)< 0.4:\n",
    "            d = nltk.edit_distance(question, replica)\n",
    "            diff = d/len(question)\n",
    "            if diff < 0.4:\n",
    "                candidates.append([question, answer, diff])\n",
    "    if(len(candidates)) == 0:\n",
    "        return\n",
    "    winner = min(candidates, key = lambda candidate: candidate[2])\n",
    "    return winner[1]"
   ]
  },
  {
   "cell_type": "code",
   "execution_count": 10,
   "metadata": {},
   "outputs": [],
   "source": [
    "def get_failure_phrases():\n",
    "    phrases = BOT_CONFIG['failure_phrases']\n",
    "    return random.choice(phrases)"
   ]
  },
  {
   "cell_type": "code",
   "execution_count": 11,
   "metadata": {},
   "outputs": [],
   "source": [
    "def bot(question):\n",
    "    #NLU\n",
    "    intent = get_intent(question)\n",
    "    \n",
    "    if intent:\n",
    "        return get_answer_by_intent(intent)\n",
    "    \n",
    "    answer = generate_answer_by_text(question)\n",
    "    if answer:\n",
    "        return answer\n",
    "    return get_failure_phrases()"
   ]
  },
  {
   "cell_type": "code",
   "execution_count": 12,
   "metadata": {},
   "outputs": [
    {
     "name": "stdout",
     "output_type": "stream",
     "text": [
      "Requirement already satisfied: python-telegram-bot in c:\\users\\andrew\\anaconda3\\lib\\site-packages (13.7)\n",
      "Requirement already satisfied: APScheduler==3.6.3 in c:\\users\\andrew\\anaconda3\\lib\\site-packages (from python-telegram-bot) (3.6.3)\n",
      "Requirement already satisfied: tornado>=6.1 in c:\\users\\andrew\\anaconda3\\lib\\site-packages (from python-telegram-bot) (6.1)\n",
      "Requirement already satisfied: certifi in c:\\users\\andrew\\anaconda3\\lib\\site-packages (from python-telegram-bot) (2020.6.20)\n",
      "Requirement already satisfied: pytz>=2018.6 in c:\\users\\andrew\\anaconda3\\lib\\site-packages (from python-telegram-bot) (2020.1)\n",
      "Requirement already satisfied: cachetools==4.2.2 in c:\\users\\andrew\\anaconda3\\lib\\site-packages (from python-telegram-bot) (4.2.2)\n",
      "Requirement already satisfied: tzlocal>=1.2 in c:\\users\\andrew\\anaconda3\\lib\\site-packages (from APScheduler==3.6.3->python-telegram-bot) (3.0)\n",
      "Requirement already satisfied: setuptools>=0.7 in c:\\users\\andrew\\anaconda3\\lib\\site-packages (from APScheduler==3.6.3->python-telegram-bot) (50.3.1.post20201107)\n",
      "Requirement already satisfied: six>=1.4.0 in c:\\users\\andrew\\anaconda3\\lib\\site-packages (from APScheduler==3.6.3->python-telegram-bot) (1.15.0)\n",
      "Requirement already satisfied: backports.zoneinfo; python_version < \"3.9\" in c:\\users\\andrew\\anaconda3\\lib\\site-packages (from tzlocal>=1.2->APScheduler==3.6.3->python-telegram-bot) (0.2.1)\n",
      "Requirement already satisfied: tzdata; platform_system == \"Windows\" in c:\\users\\andrew\\anaconda3\\lib\\site-packages (from tzlocal>=1.2->APScheduler==3.6.3->python-telegram-bot) (2021.2.post0)\n"
     ]
    }
   ],
   "source": [
    "! pip install python-telegram-bot"
   ]
  },
  {
   "cell_type": "code",
   "execution_count": 13,
   "metadata": {},
   "outputs": [],
   "source": [
    "import logging\n",
    "\n",
    "from telegram import Update, ForceReply\n",
    "from telegram.ext import Updater, CommandHandler, MessageHandler, Filters, CallbackContext\n",
    "\n",
    "# Enable logging\n",
    "logging.basicConfig(\n",
    "    format='%(asctime)s - %(name)s - %(levelname)s - %(message)s', level=logging.INFO\n",
    ")\n",
    "\n",
    "logger = logging.getLogger(__name__)\n",
    "\n",
    "\n",
    "# Define a few command handlers. These usually take the two arguments update and\n",
    "# context.\n",
    "def start(update: Update, context: CallbackContext) -> None:\n",
    "    \"\"\"Send a message when the command /start is issued.\"\"\"\n",
    "    user = update.effective_user\n",
    "    update.message.reply_markdown_v2(\n",
    "        fr'Hi {user.mention_markdown_v2()}\\!',\n",
    "        reply_markup=ForceReply(selective=True),\n",
    "    )\n",
    "\n",
    "\n",
    "def help_command(update: Update, context: CallbackContext) -> None:\n",
    "    \"\"\"Send a message when the command /help is issued.\"\"\"\n",
    "    update.message.reply_text('Help!')\n",
    "\n",
    "\n",
    "def echo(update: Update, context: CallbackContext) -> None:\n",
    "    \"\"\"Echo the user message.\"\"\"\n",
    "    question = update.message.text\n",
    "    answer = bot(question)\n",
    "    update.message.reply_text(answer)\n",
    "\n",
    "\n",
    "def main() -> None:\n",
    "    \"\"\"Start the bot.\"\"\"\n",
    "    # Create the Updater and pass it your bot's token.\n",
    "    updater = Updater(\"2056171628:AAEEcDyiJH1LjrcbmW48h-AiC4MZYTWND4E\")\n",
    "\n",
    "    # Get the dispatcher to register handlers\n",
    "    dispatcher = updater.dispatcher\n",
    "\n",
    "    # on different commands - answer in Telegram\n",
    "    dispatcher.add_handler(CommandHandler(\"start\", start))\n",
    "    dispatcher.add_handler(CommandHandler(\"help\", help_command))\n",
    "\n",
    "    # on non command i.e message - echo the message on Telegram\n",
    "    dispatcher.add_handler(MessageHandler(Filters.text & ~Filters.command, echo))\n",
    "\n",
    "    # Start the Bot\n",
    "    updater.start_polling()\n",
    "\n",
    "    # Run the bot until you press Ctrl-C or the process receives SIGINT,\n",
    "    # SIGTERM or SIGABRT. This should be used most of the time, since\n",
    "    # start_polling() is non-blocking and will stop the bot gracefully.\n",
    "    updater.idle()\n"
   ]
  },
  {
   "cell_type": "code",
   "execution_count": null,
   "metadata": {},
   "outputs": [
    {
     "name": "stderr",
     "output_type": "stream",
     "text": [
      "2022-01-04 16:19:04,011 - apscheduler.scheduler - INFO - Scheduler started\n"
     ]
    }
   ],
   "source": [
    "main()"
   ]
  },
  {
   "cell_type": "code",
   "execution_count": null,
   "metadata": {},
   "outputs": [],
   "source": []
  }
 ],
 "metadata": {
  "kernelspec": {
   "display_name": "Python 3 (ipykernel)",
   "language": "python",
   "name": "python3"
  },
  "language_info": {
   "codemirror_mode": {
    "name": "ipython",
    "version": 3
   },
   "file_extension": ".py",
   "mimetype": "text/x-python",
   "name": "python",
   "nbconvert_exporter": "python",
   "pygments_lexer": "ipython3",
   "version": "3.8.10"
  },
  "varInspector": {
   "cols": {
    "lenName": 16,
    "lenType": 16,
    "lenVar": 40
   },
   "kernels_config": {
    "python": {
     "delete_cmd_postfix": "",
     "delete_cmd_prefix": "del ",
     "library": "var_list.py",
     "varRefreshCmd": "print(var_dic_list())"
    },
    "r": {
     "delete_cmd_postfix": ") ",
     "delete_cmd_prefix": "rm(",
     "library": "var_list.r",
     "varRefreshCmd": "cat(var_dic_list()) "
    }
   },
   "types_to_exclude": [
    "module",
    "function",
    "builtin_function_or_method",
    "instance",
    "_Feature"
   ],
   "window_display": false
  }
 },
 "nbformat": 4,
 "nbformat_minor": 4
}
